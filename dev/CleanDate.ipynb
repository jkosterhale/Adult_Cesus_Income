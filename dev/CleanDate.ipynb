{
 "cells": [
  {
   "cell_type": "markdown",
   "metadata": {},
   "source": [
    "# Step2 : Clean Data ----- Normalization "
   ]
  },
  {
   "cell_type": "code",
   "execution_count": 1,
   "metadata": {
    "collapsed": true
   },
   "outputs": [],
   "source": [
    "import numpy as np\n",
    "import pandas as pd"
   ]
  },
  {
   "cell_type": "code",
   "execution_count": 2,
   "metadata": {
    "collapsed": true
   },
   "outputs": [],
   "source": [
    "SHARED_FOLDER = '../ressources/us_census_full'"
   ]
  },
  {
   "cell_type": "code",
   "execution_count": 3,
   "metadata": {
    "collapsed": true
   },
   "outputs": [],
   "source": [
    "with open ('{}/train.csv'.format(SHARED_FOLDER), 'rb') as f:\n",
    "    train_df = pd.read_csv(f)\n",
    "\n",
    "with open ('{}/test.csv'.format(SHARED_FOLDER), 'rb') as f:\n",
    "    test_df = pd.read_csv(f)"
   ]
  },
  {
   "cell_type": "code",
   "execution_count": 4,
   "metadata": {
    "collapsed": true
   },
   "outputs": [],
   "source": [
    "from sklearn.preprocessing import LabelEncoder\n",
    "le = LabelEncoder()\n",
    "\n",
    "def factorize(df, factor_df, column, fill_na=None):\n",
    "    factor_df[column] = df[column]\n",
    "    if fill_na is not None:\n",
    "        factor_df[column].fillna(fill_na, inplace=True)\n",
    "    le.fit(factor_df[column].unique())\n",
    "    factor_df[column] = le.transform(factor_df[column])\n",
    "    return factor_df"
   ]
  },
  {
   "cell_type": "code",
   "execution_count": 5,
   "metadata": {
    "collapsed": true
   },
   "outputs": [],
   "source": [
    "def Normalize(df):\n",
    "    all_df = pd.DataFrame(index = df.index)\n",
    "    #numeric\n",
    "    all_df[\"AAGE\"] = df[\"AAGE\"]\n",
    "    all_df[\"AHRSPAY\"] = df[\"AHRSPAY\"]\n",
    "    all_df[\"CAPGAIN\"] = df[\"CAPGAIN\"]\n",
    "    all_df[\"CAPLOSS\"] = df[\"CAPLOSS\"]\n",
    "    all_df[\"DIVVAL\"] = df[\"DIVVAL\"]\n",
    "    all_df[\"NOEMP\"] = df[\"NOEMP\"]\n",
    "    all_df[\"WKSWORK\"] = df[\"WKSWORK\"]\n",
    "    #categoric\n",
    "    all_df = factorize(df, all_df, \"ACLSWKR\")\n",
    "    all_df = factorize(df, all_df, \"ADTIND\")\n",
    "    all_df = factorize(df, all_df, \"ADTOCC\")\n",
    "    all_df = factorize(df, all_df, \"AHGA\")\n",
    "    all_df = factorize(df, all_df, \"AHSCOL\")\n",
    "    all_df = factorize(df, all_df, \"AMARITL\")\n",
    "    all_df = factorize(df, all_df, \"AMJIND\")\n",
    "    all_df = factorize(df, all_df, \"AMJOCC\")\n",
    "    all_df = factorize(df, all_df, \"ARACE\")\n",
    "    all_df = factorize(df, all_df, \"AREORGN\")\n",
    "    all_df = factorize(df, all_df, \"ASEX\")\n",
    "    all_df = factorize(df, all_df, \"AUNMEM\")\n",
    "    all_df = factorize(df, all_df, \"AUNTYPE\")\n",
    "    all_df = factorize(df, all_df, \"AWKSTAT\")\n",
    "    all_df = factorize(df, all_df, \"FILESTAT\")\n",
    "    all_df = factorize(df, all_df, \"GRINREG\")\n",
    "    \n",
    "    test_df = df\n",
    "    test_df.ix[test_df.GRINST == ' ?', 'GRINST'] = ' unknown'\n",
    "    all_df = factorize(test_df, all_df, \"GRINST\")\n",
    "    \n",
    "    all_df = factorize(df, all_df, \"HHDFMX\")\n",
    "    all_df = factorize(df, all_df, \"HHDREL\")\n",
    "    \n",
    "    test_df = df\n",
    "    test_df.ix[test_df.MIGMTR1 == ' ?', 'MIGMTR1'] = ' unknown'\n",
    "    all_df = factorize(test_df, all_df, \"MIGMTR1\")\n",
    "    \n",
    "    test_df = df\n",
    "    test_df.ix[test_df.MIGMTR3 == ' ?', 'MIGMTR3'] = ' unknown'\n",
    "    all_df = factorize(test_df, all_df, \"MIGMTR3\")\n",
    "    \n",
    "    test_df = df\n",
    "    test_df.ix[test_df.MIGMTR4 == ' ?', 'MIGMTR4'] = ' unknown'\n",
    "    all_df = factorize(test_df, all_df, \"MIGMTR4\")\n",
    "    \n",
    "    all_df = factorize(df, all_df, \"MIGSAME\")\n",
    "    \n",
    "    test_df = df\n",
    "    test_df.ix[test_df.MIGSUN == ' ?', 'MIGSUN'] = ' unknown'\n",
    "    all_df = factorize(test_df, all_df, \"MIGSUN\")\n",
    "    \n",
    "    all_df = factorize(df, all_df, \"PARENT\")\n",
    "    \n",
    "    test_df = df\n",
    "    test_df.ix[test_df.PEFNTVTY == ' ?', 'PEFNTVTY'] = ' unknown'\n",
    "    all_df = factorize(test_df, all_df, \"PEFNTVTY\")\n",
    "    \n",
    "    test_df = df\n",
    "    test_df.ix[test_df.PEMNTVTY == ' ?', 'PEMNTVTY'] = ' unknown'\n",
    "    all_df = factorize(test_df, all_df, \"PEMNTVTY\")\n",
    "    \n",
    "    test_df = df\n",
    "    test_df.ix[test_df.PENATVTY == ' ?', 'PENATVTY'] = ' unknown'\n",
    "    all_df = factorize(test_df, all_df, \"PENATVTY\")\n",
    "    \n",
    "    all_df = factorize(df, all_df, \"PRCITSHP\")\n",
    "    all_df = factorize(df, all_df, \"SEOTR\")\n",
    "    all_df = factorize(df, all_df, \"VETQVA\")\n",
    "    all_df = factorize(df, all_df, \"VETYN\")\n",
    "    all_df[\"YEAR\"] = df[\"YEAR\"]\n",
    "    \n",
    "    #group some categoric variables\n",
    "    all_df[\"ACLSWKR_Gr\"] = df.ACLSWKR.replace({\n",
    "        ' Not in universe': 0, ' Never worked': 1, ' Without pay': 1, ' Private': 2, ' Self-employed-incorporated': 2,\n",
    "        ' Self-employed-not incorporated': 2, ' Federal government': 3, ' Local government':3, ' State government':3})\n",
    "    \n",
    "    all_df[\"AHGA_Gr\"] = df.AHGA.replace({\n",
    "        ' Children':0, ' Less than 1st grade':0, ' 1st 2nd 3rd or 4th grade':0, ' 5th or 6th grade':0,\n",
    "        ' 7th and 8th grade':0, ' 9th grade':0, ' 10th grade':0, ' 11th grade':0, ' 12th grade no diploma':0, \n",
    "        ' Some college but no degree':0,' High school graduate':0, ' Bachelors degree(BA AB BS)':1, \n",
    "        ' Associates degree-occup /vocational':1, ' Associates degree-academic program':1,\n",
    "        ' Masters degree(MA MS MEng MEd MSW MBA)':2, ' Prof school degree (MD DDS DVM LLB JD)':2,\n",
    "        ' Doctorate degree(PhD EdD)':2})\n",
    "    \n",
    "    return all_df\n",
    "    "
   ]
  },
  {
   "cell_type": "code",
   "execution_count": 6,
   "metadata": {
    "collapsed": true
   },
   "outputs": [],
   "source": [
    "train_df_v1 = Normalize(train_df)\n",
    "test_df_v1 = Normalize(test_df)\n",
    "\n",
    "numeric_features = train_df_v1.dtypes[train_df_v1.dtypes != \"object\"].index\n",
    "\n",
    "# Transform the skewed numeric features by taking log(feature + 1).\n",
    "# This will make the features more normal.\n",
    "from scipy.stats import skew\n",
    "\n",
    "skewed = train_df_v1[numeric_features].apply(lambda x: skew(x.dropna().astype(float)))\n",
    "skewed = skewed[skewed > 0.75]\n",
    "skewed = skewed.index\n",
    "\n",
    "train_df_v1[skewed] = np.log1p(train_df_v1[skewed])\n",
    "test_df_v1[skewed] = np.log1p(test_df_v1[skewed])\n",
    "\n",
    "label_df = pd.DataFrame(index = train_df_v1.index, columns=[\"INCOMEBIN\"])\n",
    "label_df[\"INCOMEBIN\"] = train_df['INCOME'].map({train_df['INCOME'].iloc[1]:0, train_df['INCOME'].iloc[56]:1}).astype(int)\n",
    "\n",
    "target_df = pd.DataFrame(index = test_df_v1.index, columns=[\"INCOMEBIN\"])\n",
    "target_df[\"INCOMEBIN\"] = test_df['INCOME'].map({train_df['INCOME'].iloc[1]:0, train_df['INCOME'].iloc[56]:1}).astype(int)\n",
    "\n",
    "train_df_v1.to_csv('../ressources/us_census_full/train_cleaned.csv')\n",
    "test_df_v1.to_csv('../ressources/us_census_full/test_cleaned.csv')\n",
    "label_df.to_csv('../ressources/us_census_full/train_income.csv')\n",
    "target_df.to_csv('../ressources/us_census_full/test_income.csv')"
   ]
  }
 ],
 "metadata": {
  "kernelspec": {
   "display_name": "Python 3",
   "language": "python",
   "name": "python3"
  },
  "language_info": {
   "codemirror_mode": {
    "name": "ipython",
    "version": 3
   },
   "file_extension": ".py",
   "mimetype": "text/x-python",
   "name": "python",
   "nbconvert_exporter": "python",
   "pygments_lexer": "ipython3",
   "version": "3.6.0"
  }
 },
 "nbformat": 4,
 "nbformat_minor": 2
}
