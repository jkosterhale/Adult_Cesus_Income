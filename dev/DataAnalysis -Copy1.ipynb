{
 "cells": [
  {
   "cell_type": "code",
   "execution_count": null,
   "metadata": {
    "collapsed": true
   },
   "outputs": [],
   "source": [
    "from IPython.core.interactiveshell import InteractiveShell\n",
    "InteractiveShell.ast_node_interactivity = \"all\""
   ]
  },
  {
   "cell_type": "code",
   "execution_count": null,
   "metadata": {},
   "outputs": [],
   "source": [
    "import numpy as np\n",
    "import pandas as pd\n",
    "\n",
    "import plotly.offline as py\n",
    "import plotly.figure_factory as ff\n",
    "import plotly.graph_objs as gobj\n",
    "py.init_notebook_mode(connected=True)\n",
    "#py.init_notebook_mode()"
   ]
  },
  {
   "cell_type": "code",
   "execution_count": null,
   "metadata": {
    "collapsed": true
   },
   "outputs": [],
   "source": [
    "SHARED_FOLDER = '../ressources/us_census_full'"
   ]
  },
  {
   "cell_type": "code",
   "execution_count": null,
   "metadata": {
    "collapsed": true
   },
   "outputs": [],
   "source": [
    "with open ('{}/train.csv'.format(SHARED_FOLDER), 'rb') as f:\n",
    "    train_df = pd.read_csv(f)"
   ]
  },
  {
   "cell_type": "code",
   "execution_count": null,
   "metadata": {},
   "outputs": [],
   "source": [
    "train_df.columns"
   ]
  },
  {
   "cell_type": "code",
   "execution_count": null,
   "metadata": {
    "collapsed": true
   },
   "outputs": [],
   "source": [
    "train_df['INCOMEBIN']=train_df['INCOME'].map({train_df['INCOME'].iloc[1]:0, train_df['INCOME'].iloc[56]:1}).astype(int)"
   ]
  },
  {
   "cell_type": "markdown",
   "metadata": {},
   "source": [
    "# Test Part"
   ]
  },
  {
   "cell_type": "code",
   "execution_count": null,
   "metadata": {},
   "outputs": [],
   "source": [
    "train=train_df[['AHSCOL','INCOMEBIN']]\n",
    "count = train.groupby(['AHSCOL','INCOMEBIN']).size().reset_index()\n",
    "count1 = count[count.INCOMEBIN == 1]\n",
    "count1.columns = ['AHSCOL','INCOMEBIN','count_1']\n",
    "values = pd.DataFrame(train_df['AHSCOL'].value_counts())\n",
    "values.columns = ['sum']\n",
    "values['AHSCOL'] = [ str(i) for i in values.index ]\n",
    "values_count = pd.merge(values, count1[['AHSCOL','count_1']], how = 'left', on=['AHSCOL'])\n",
    "values_count = values_count.reindex_axis(['AHSCOL','sum','count_1'],axis=1)\n",
    "values_count.reset_index(drop=True,inplace=True)\n",
    "values_count['count_0'] = values_count['sum'] - values_count['count_1']\n",
    "values_count['percent'] = values_count['count_1'].div(values_count['sum']).multiply(100).round(2)\n",
    "values_count"
   ]
  },
  {
   "cell_type": "code",
   "execution_count": null,
   "metadata": {},
   "outputs": [],
   "source": [
    "values = values_count[['ACLSWKR','count_1','count_0','percent']]\n",
    "values2 = values_count[['ACLSWKR','count_1','percent']]\n",
    "trace1 = gobj.Bar(\n",
    "    x= values['ACLSWKR'],\n",
    "    y= values['count_1'],\n",
    "    name='above 50000'\n",
    ")\n",
    "trace2 = gobj.Bar(\n",
    "    x= values['ACLSWKR'],\n",
    "    y= values['count_0'],\n",
    "    name='below 50000'\n",
    ")\n",
    "\n",
    "data = [trace1, trace2]\n",
    "annotations = [ dict( x = xi,\n",
    "                      y = yi,\n",
    "                      showarrow = False,\n",
    "                      text = \"{}%\".format(pi),\n",
    "                      xanchor = 'center',\n",
    "                      yanchor = 'center',\n",
    "                      font = {'color':'black'})\n",
    "                 for xi,yi,pi in values2.values ]\n",
    "layout = gobj.Layout(\n",
    "    barmode='stack',\n",
    "    title = 'ACLSWKR',\n",
    "    annotations = annotations\n",
    ")\n",
    "\n",
    "fig = gobj.Figure(data=data, layout=layout)\n",
    "py.iplot(fig)"
   ]
  },
  {
   "cell_type": "markdown",
   "metadata": {},
   "source": [
    "# Plot categoric variables"
   ]
  },
  {
   "cell_type": "code",
   "execution_count": null,
   "metadata": {
    "collapsed": true
   },
   "outputs": [],
   "source": [
    "categorized_cols = ['ACLSWKR', 'ADTIND', 'ADTOCC', 'AHGA', 'AHSCOL', 'AMARITL', 'AMJIND', 'AMJOCC',\n",
    " 'ARACE', 'AREORGN', 'ASEX', 'AUNMEM', 'AUNTYPE', 'AWKSTAT', 'FILESTAT', 'GRINREG', 'GRINST', 'HHDFMX',\n",
    "  'HHDREL', 'MIGMTR1', 'MIGMTR3', 'MIGMTR4', 'MIGSAME', 'MIGSUN', 'PARENT', 'PEFNTVTY', 'PEMNTVTY', 'PENATVTY',\n",
    "   'PRCITSHP', 'SEOTR', 'VETQVA', 'VETYN', 'YEAR', 'INCOME']"
   ]
  },
  {
   "cell_type": "code",
   "execution_count": null,
   "metadata": {
    "collapsed": true
   },
   "outputs": [],
   "source": [
    "def plot_categoric(col):\n",
    "    values_count = pd.DataFrame(train_df[col].value_counts())\n",
    "    values_count.columns = ['count']\n",
    "    values_count[col] = [ str(i) for i in values_count.index ]\n",
    "    values_count['percent'] = values_count['count'].div(values_count['count'].sum()).multiply(100).round(2)\n",
    "    values_count = values_count.reindex_axis([col,'count','percent'],axis=1)\n",
    "    values_count.reset_index(drop=True,inplace=True)\n",
    "    font_size = 20 - (.25 * len(values_count[col]))\n",
    "    trace = gobj.Bar( x = values_count[col], y = values_count['count'] )\n",
    "    data_ = gobj.Data([trace])\n",
    "    annotations0 = [dict(x = xi,\n",
    "                         y = yi, \n",
    "                         showarrow=False,\n",
    "                         font={'size':font_size},\n",
    "                         text = \"{:,}\".format(yi),\n",
    "                         xanchor='center',\n",
    "                         yanchor='bottom' )\n",
    "                   for xi,yi,_ in values_count.values ]\n",
    "    annotations1 = [ dict( x = xi,\n",
    "                          y = yi/2,\n",
    "                          showarrow = False,\n",
    "                          text = \"{}%\".format(pi),\n",
    "                          xanchor = 'center',\n",
    "                          yanchor = 'center',\n",
    "                          font = {'color':'red'})\n",
    "                     for xi,yi,pi in values_count.values if pi > 10 ]\n",
    "    annotations = annotations0 + annotations1                       \n",
    "    layout = gobj.Layout(title = col,\n",
    "                         titlefont = {'size': 50},\n",
    "                         yaxis = {'title':'count'},\n",
    "                         xaxis = {'type':'category'},\n",
    "                        annotations = annotations )\n",
    "    figure = gobj.Figure(data = data_, layout = layout)\n",
    "    \n",
    "    return figure"
   ]
  },
  {
   "cell_type": "code",
   "execution_count": null,
   "metadata": {
    "collapsed": true
   },
   "outputs": [],
   "source": [
    "for col in categorized_cols:\n",
    "    figure = plot_categoric(col)\n",
    "    py.iplot(figure)"
   ]
  },
  {
   "cell_type": "code",
   "execution_count": null,
   "metadata": {
    "collapsed": true
   },
   "outputs": [],
   "source": [
    "def plot_categoric_comp(col):\n",
    "    train=train_df[[col,'INCOMEBIN']]\n",
    "    count = train.groupby([col,'INCOMEBIN']).size().reset_index()\n",
    "    count1 = count[count.INCOMEBIN == 1]\n",
    "    count1.columns = [col,'INCOMEBIN','count_1']\n",
    "    values = pd.DataFrame(train_df[col].value_counts())\n",
    "    values.columns = ['sum']\n",
    "    values[col] = [ str(i) for i in values.index ]\n",
    "    values_count = pd.merge(values, count1[[col,'count_1']], how = 'left', on=[col])\n",
    "    values_count = values_count.reindex_axis([col,'sum','count_1'],axis=1)\n",
    "    values_count.reset_index(drop=True,inplace=True)\n",
    "    values_count['count_0'] = values_count['sum'] - values_count['count_1']\n",
    "    values_count['percent'] = values_count['count_1'].div(values_count['sum']).multiply(100).round(2)\n",
    "    \n",
    "    values = values_count[[col,'count_1','count_0','percent']]\n",
    "    values2 = values_count[[col,'count_1','percent']]\n",
    "    trace1 = gobj.Bar(\n",
    "        x= values[col],\n",
    "        y= values['count_1'],\n",
    "        name='above 50000'\n",
    "    )\n",
    "    trace2 = gobj.Bar(\n",
    "        x= values[col],\n",
    "        y= values['count_0'],\n",
    "        name='below 50000'\n",
    "    )\n",
    "\n",
    "    data = [trace1, trace2]\n",
    "    annotations = [ dict( x = xi,\n",
    "                          y = yi,\n",
    "                          showarrow = False,\n",
    "                          text = \"{}%\".format(pi),\n",
    "                          xanchor = 'center',\n",
    "                          yanchor = 'center',\n",
    "                          font = {'color':'black'})\n",
    "                     for xi,yi,pi in values2.values ]\n",
    "    layout = gobj.Layout(\n",
    "        barmode='stack',\n",
    "        title = col,\n",
    "        annotations = annotations\n",
    "    )\n",
    "\n",
    "    figure = gobj.Figure(data=data, layout=layout)\n",
    "    \n",
    "    return figure"
   ]
  },
  {
   "cell_type": "code",
   "execution_count": null,
   "metadata": {},
   "outputs": [],
   "source": [
    "for col in categorized_cols:\n",
    "    figure = plot_categoric_comp(col)\n",
    "    py.iplot(figure)"
   ]
  },
  {
   "cell_type": "code",
   "execution_count": null,
   "metadata": {},
   "outputs": [],
   "source": [
    "#train_df['GRINREG']\n",
    "series = train_df['GRINREG']\n",
    "series = series[ series == ' ?'  ]\n",
    "count = series.size\n",
    "#smin,smax = series.min(),series.max()\n",
    "#series2 = series[ ( ( series - series.mean() ).abs() > 3 * series.std() ) ]\n",
    "#count_outlier = series2.size\n",
    "count"
   ]
  },
  {
   "cell_type": "markdown",
   "metadata": {},
   "source": [
    "# Test for discrete variable"
   ]
  },
  {
   "cell_type": "code",
   "execution_count": null,
   "metadata": {
    "collapsed": true
   },
   "outputs": [],
   "source": [
    "#disc_cols = [ 'AAGE', 'AHRSPAY', 'CAPGAIN', 'CAPLOSS', 'DIVVAL',\n",
    "#             'NOEMP', 'WKSWORK']"
   ]
  },
  {
   "cell_type": "code",
   "execution_count": null,
   "metadata": {},
   "outputs": [],
   "source": [
    "series = train_df['AHRSPAY']\n",
    "columns = ['count','sum']\n",
    "index = ['zero','outlier']\n",
    "df = pd.DataFrame(index = index, columns = columns)\n",
    "df['count'].loc['zero'] = series[ series == 0 ].size\n",
    "series = series[ series != 0 ]\n",
    "df['count'].loc['outlier'] = series[ ( ( series - series.mean() ).abs() > 3 * series.std() ) ].size\n",
    "df['sum'] = train_df['AHRSPAY'].count()\n",
    "df['percent'] = df['count'].div(df['sum']).multiply(100)\n",
    "df['type'] = [ str(i) for i in df.index ]\n",
    "df = df.reindex_axis(['type','count','percent'],axis=1)\n",
    "df.reset_index(drop=True,inplace=True)\n",
    "df"
   ]
  },
  {
   "cell_type": "code",
   "execution_count": null,
   "metadata": {},
   "outputs": [],
   "source": [
    "font_size = 20 - (.25 * len(df['type']))\n",
    "trace = gobj.Bar( x = df['type'], y = df['count'] )\n",
    "data_ = gobj.Data([trace])\n",
    "annotations0 = [dict(x = xi,\n",
    "                     y = yi, \n",
    "                     showarrow=False,\n",
    "                     font={'size':font_size},\n",
    "                     text = \"{:,}\".format(yi),\n",
    "                     xanchor='center',\n",
    "                     yanchor='bottom' )\n",
    "               for xi,yi,_ in df.values ]\n",
    "annotations1 = [ dict( x = xi,\n",
    "                      y = yi/2,\n",
    "                      showarrow = False,\n",
    "                      text = \"{}%\".format(pi),\n",
    "                      xanchor = 'center',\n",
    "                      yanchor = 'center',\n",
    "                      font = {'color':'red'})\n",
    "                 for xi,yi,pi in df.values  ]\n",
    "annotations = annotations0 + annotations1                       \n",
    "layout = gobj.Layout(title = col,\n",
    "                     titlefont = {'size': 50},\n",
    "                     yaxis = {'title':'count'},\n",
    "                     xaxis = {'type':'category'},\n",
    "                    annotations = annotations )\n",
    "figure = gobj.Figure(data = data_, layout = layout)\n",
    "py.iplot(figure)"
   ]
  },
  {
   "cell_type": "markdown",
   "metadata": {},
   "source": [
    "# Plot the discrete variable"
   ]
  },
  {
   "cell_type": "code",
   "execution_count": null,
   "metadata": {
    "collapsed": true
   },
   "outputs": [],
   "source": [
    "disc_cols = [ 'AAGE', 'AHRSPAY', 'CAPGAIN', 'CAPLOSS', 'DIVVAL',\n",
    "             'NOEMP', 'WKSWORK']"
   ]
  },
  {
   "cell_type": "code",
   "execution_count": null,
   "metadata": {
    "collapsed": true
   },
   "outputs": [],
   "source": [
    "def plot_disc_normal(col):\n",
    "    series = train_df[col]\n",
    "    series = series[ series != 0 ]\n",
    "    smin,smax = series.min(),series.max()\n",
    "    # remove outliers for +- three standard deviations.\n",
    "    series = series[ ~( ( series - series.mean() ).abs() > 3 * series.std() ) ]\n",
    "    percentiles = [ np.percentile(series,n) for n in (2.5,50,97.5) ]\n",
    "    \n",
    "    trace0 = gobj.Histogram( x = series,\n",
    "                            histfunc = 'avg', \n",
    "                            histnorm = 'probability density',\n",
    "                            opacity=.75,\n",
    "                           marker = {'color':'#EB89B5'})\n",
    "    data_ = gobj.Data( [trace0] )\n",
    "    \n",
    "    shapes = [{ 'line': { 'color': '#0099FF', 'dash':'solid', 'width':2 },\n",
    "                'type':'line',\n",
    "                'x0':percentiles[0], 'x1':percentiles[0], 'xref':'x',\n",
    "                'y0':-0.1, 'y1':1, 'yref':'paper' },\n",
    "               \n",
    "              { 'line': { 'color': '#00999F', 'dash':'solid', 'width':1 },\n",
    "                'type':'line',\n",
    "                'x0':percentiles[1], 'x1':percentiles[1], 'xref':'x',\n",
    "                'y0':-0.1, 'y1':1, 'yref':'paper' },\n",
    "    \n",
    "              { 'line': { 'color': '#0099FF', 'dash':'solid', 'width':2 },\n",
    "                'type':'line',\n",
    "                'x0':percentiles[2], 'x1':percentiles[2], 'xref':'x',\n",
    "                'y0':-0.1, 'y1':1, 'yref':'paper' } \n",
    "             ]\n",
    "    \n",
    "    annotations = [ {'x': percentiles[0], 'xref':'x','xanchor':'right',\n",
    "                     'y': .3, 'yref':'paper', \n",
    "                     'text':'2.5%', 'font':{'size':16},\n",
    "                     'showarrow':False},\n",
    "                   \n",
    "                    {'x': percentiles[1], 'xref':'x','xanchor':'center',\n",
    "                     'y': .2, 'yref':'paper', \n",
    "                     'text':'95%<br>median = {0:,.2f}<br>mean = {1:,.2f}<br>min = {2:,}<br>max = {3:,}'\n",
    "                         .format(percentiles[1],series.mean(),smin,smax), \n",
    "                     'showarrow':False,\n",
    "                     'font':{'size':20} },\n",
    "                   \n",
    "                    {'x': percentiles[2], 'xref':'x','xanchor':'left',\n",
    "                     'y': .3, 'yref':'paper', \n",
    "                     'text':'2.5%','font':{'size':16}, \n",
    "                     'showarrow':False},\n",
    "                   \n",
    "                    {'x': .5, 'xref':'paper','xanchor':'center',\n",
    "                     'y': 1.1, 'yref':'paper','yanchor':'center', \n",
    "                     'text':'Outliers above or below three standard deviations are excluded from the graph, mean and median calculations.',\n",
    "                     'font':{'size':15,'color':'rose'}, \n",
    "                     'showarrow':False} \n",
    "                  ]\n",
    "    \n",
    "    layout = gobj.Layout( title = col,\n",
    "                        titlefont = {'size':'50'},\n",
    "                        yaxis = {'title':'Probability/Density'},\n",
    "                        xaxis = {'title':col, 'type':'discrete'},\n",
    "                        shapes = shapes,\n",
    "                         annotations = annotations\n",
    "                         )\n",
    "    figure = gobj.Figure(data = data_, layout = layout)\n",
    "    return figure"
   ]
  },
  {
   "cell_type": "code",
   "execution_count": null,
   "metadata": {},
   "outputs": [],
   "source": [
    "for col in disc_cols:\n",
    "    figure = plot_disc_normal(col)\n",
    "    py.iplot(figure)"
   ]
  },
  {
   "cell_type": "code",
   "execution_count": null,
   "metadata": {
    "collapsed": true
   },
   "outputs": [],
   "source": [
    "def plot_disc_outlier(col):\n",
    "    series = train_df[col]\n",
    "    columns = ['count','sum']\n",
    "    index = ['zero','outlier']\n",
    "    df = pd.DataFrame(index = index, columns = columns)\n",
    "    df['count'].loc['zero'] = series[ series == 0 ].size\n",
    "    series = series[ series != 0 ]\n",
    "    df['count'].loc['outlier'] = series[ ( ( series - series.mean() ).abs() > 3 * series.std() ) ].size\n",
    "    df['sum'] = train_df[col].count()\n",
    "    df['percent'] = df['count'].div(df['sum']).multiply(100)\n",
    "    df['type'] = [ str(i) for i in df.index ]\n",
    "    df = df.reindex_axis(['type','count','percent'],axis=1)\n",
    "    df.reset_index(drop=True,inplace=True)\n",
    "    \n",
    "    font_size = 20 - (.25 * len(df['type']))\n",
    "    trace = gobj.Bar( x = df['type'], y = df['count'] )\n",
    "    data_ = gobj.Data([trace])\n",
    "    annotations0 = [dict(x = xi,\n",
    "                         y = yi, \n",
    "                         showarrow=False,\n",
    "                         font={'size':font_size},\n",
    "                         text = \"{:,}\".format(yi),\n",
    "                         xanchor='center',\n",
    "                         yanchor='bottom' )\n",
    "                   for xi,yi,_ in df.values ]\n",
    "    annotations1 = [ dict( x = xi,\n",
    "                          y = yi/2,\n",
    "                          showarrow = False,\n",
    "                          text = \"{}%\".format(pi),\n",
    "                          xanchor = 'center',\n",
    "                          yanchor = 'center',\n",
    "                          font = {'color':'red'})\n",
    "                     for xi,yi,pi in df.values  ]\n",
    "    annotations = annotations0 + annotations1                       \n",
    "    layout = gobj.Layout(title = col,\n",
    "                         titlefont = {'size': 50},\n",
    "                         yaxis = {'title':'count'},\n",
    "                         xaxis = {'type':'category'},\n",
    "                        annotations = annotations )\n",
    "    figure = gobj.Figure(data = data_, layout = layout)\n",
    "    return figure"
   ]
  },
  {
   "cell_type": "code",
   "execution_count": null,
   "metadata": {
    "collapsed": true
   },
   "outputs": [],
   "source": [
    "for col in disc_cols:\n",
    "    figure = plot_disc_outlier(col)\n",
    "    py.iplot(figure)"
   ]
  }
 ],
 "metadata": {
  "kernelspec": {
   "display_name": "Python 3",
   "language": "python",
   "name": "python3"
  },
  "language_info": {
   "codemirror_mode": {
    "name": "ipython",
    "version": 3
   },
   "file_extension": ".py",
   "mimetype": "text/x-python",
   "name": "python",
   "nbconvert_exporter": "python",
   "pygments_lexer": "ipython3",
   "version": "3.6.0"
  }
 },
 "nbformat": 4,
 "nbformat_minor": 2
}
